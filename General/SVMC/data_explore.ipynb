{
 "cells": [
  {
   "cell_type": "code",
   "execution_count": 1,
   "id": "initial_id",
   "metadata": {
    "collapsed": true,
    "ExecuteTime": {
     "end_time": "2024-07-25T09:18:50.702388500Z",
     "start_time": "2024-07-25T09:18:50.172025600Z"
    }
   },
   "outputs": [],
   "source": [
    "import pandas as pd"
   ]
  },
  {
   "cell_type": "code",
   "execution_count": 140,
   "outputs": [
    {
     "data": {
      "text/plain": "           hydra_tail  site  patient    group  birth_year  visit_age  \\\nhydra_id                                                               \nESOC10006       10006  ikem        0  control        1985       24.8   \nESOC10013       10013  ikem        0  control        1982       27.7   \nESOC10015       10015  ikem        0  control        1976       34.2   \nESOC10017       10017  ikem        0  control        1981       29.0   \nESOC10018       10018  ikem        0  control        1978       31.9   \n...               ...   ...      ...      ...         ...        ...   \nESOP00173         173  ikem        1  patient        1980       34.3   \nESOP00176         176  ikem        1  patient        1994       20.2   \nESOP00177         177  ikem        1  patient        1992       22.0   \nESOP00178         178  ikem        1  patient        1979       34.6   \nESOP00205         205  ikem        1  patient        1983       31.6   \n\n          visit_date  visit_no sex  male  ...  right_handed  \\\nhydra_id                                  ...                 \nESOC10006 2010-07-23         1   F     0  ...           1.0   \nESOC10013 2010-07-15         1   F     0  ...           1.0   \nESOC10015 2010-09-08         1   F     0  ...           1.0   \nESOC10017 2010-07-16         1   F     0  ...           1.0   \nESOC10018 2010-07-19         1   M     1  ...           1.0   \n...              ...       ...  ..   ...  ...           ...   \nESOP00173 2014-04-08         1   M     1  ...           1.0   \nESOP00176 2014-08-14         1   F     0  ...           0.0   \nESOP00177 2014-11-08         1   M     1  ...           1.0   \nESOP00178 2014-11-08         1   M     1  ...           1.0   \nESOP00205 2014-08-09         1   M     1  ...           1.0   \n\n           first_symptoms_date first_symptoms_age  dup  dx_to_mri   gaf  \\\nhydra_id                                                                  \nESOC10006                  NaT                NaN  NaN        NaN   NaN   \nESOC10013                  NaT                NaN  NaN        NaN   NaN   \nESOC10015                  NaT                NaN  NaN        NaN   NaN   \nESOC10017                  NaT                NaN  NaN        NaN   NaN   \nESOC10018                  NaT                NaN  NaN        NaN   NaN   \n...                        ...                ...  ...        ...   ...   \nESOP00173           2014-06-15               34.2  NaN        2.0  40.0   \nESOP00176           2014-01-02               19.6  5.0        6.0  46.0   \nESOP00177           2014-06-15               21.9  1.0        2.0  55.0   \nESOP00178           2014-06-24               34.5  NaN        2.0  58.0   \nESOP00205           2014-01-07               31.4  1.0        2.0   NaN   \n\n           panss_pos  panss_neg  panss_glob  panss_tot  \nhydra_id                                                \nESOC10006        NaN        NaN         NaN        NaN  \nESOC10013        NaN        NaN         NaN        NaN  \nESOC10015        NaN        NaN         NaN        NaN  \nESOC10017        NaN        NaN         NaN        NaN  \nESOC10018        NaN        NaN         NaN        NaN  \n...              ...        ...         ...        ...  \nESOP00173       11.0       25.0        45.0       81.0  \nESOP00176       16.0       27.0        46.0       89.0  \nESOP00177       13.0       20.0        45.0       78.0  \nESOP00178       18.0       14.0        38.0       70.0  \nESOP00205       21.0       16.0        39.0       76.0  \n\n[184 rows x 21 columns]",
      "text/html": "<div>\n<style scoped>\n    .dataframe tbody tr th:only-of-type {\n        vertical-align: middle;\n    }\n\n    .dataframe tbody tr th {\n        vertical-align: top;\n    }\n\n    .dataframe thead th {\n        text-align: right;\n    }\n</style>\n<table border=\"1\" class=\"dataframe\">\n  <thead>\n    <tr style=\"text-align: right;\">\n      <th></th>\n      <th>hydra_tail</th>\n      <th>site</th>\n      <th>patient</th>\n      <th>group</th>\n      <th>birth_year</th>\n      <th>visit_age</th>\n      <th>visit_date</th>\n      <th>visit_no</th>\n      <th>sex</th>\n      <th>male</th>\n      <th>...</th>\n      <th>right_handed</th>\n      <th>first_symptoms_date</th>\n      <th>first_symptoms_age</th>\n      <th>dup</th>\n      <th>dx_to_mri</th>\n      <th>gaf</th>\n      <th>panss_pos</th>\n      <th>panss_neg</th>\n      <th>panss_glob</th>\n      <th>panss_tot</th>\n    </tr>\n    <tr>\n      <th>hydra_id</th>\n      <th></th>\n      <th></th>\n      <th></th>\n      <th></th>\n      <th></th>\n      <th></th>\n      <th></th>\n      <th></th>\n      <th></th>\n      <th></th>\n      <th></th>\n      <th></th>\n      <th></th>\n      <th></th>\n      <th></th>\n      <th></th>\n      <th></th>\n      <th></th>\n      <th></th>\n      <th></th>\n      <th></th>\n    </tr>\n  </thead>\n  <tbody>\n    <tr>\n      <th>ESOC10006</th>\n      <td>10006</td>\n      <td>ikem</td>\n      <td>0</td>\n      <td>control</td>\n      <td>1985</td>\n      <td>24.8</td>\n      <td>2010-07-23</td>\n      <td>1</td>\n      <td>F</td>\n      <td>0</td>\n      <td>...</td>\n      <td>1.0</td>\n      <td>NaT</td>\n      <td>NaN</td>\n      <td>NaN</td>\n      <td>NaN</td>\n      <td>NaN</td>\n      <td>NaN</td>\n      <td>NaN</td>\n      <td>NaN</td>\n      <td>NaN</td>\n    </tr>\n    <tr>\n      <th>ESOC10013</th>\n      <td>10013</td>\n      <td>ikem</td>\n      <td>0</td>\n      <td>control</td>\n      <td>1982</td>\n      <td>27.7</td>\n      <td>2010-07-15</td>\n      <td>1</td>\n      <td>F</td>\n      <td>0</td>\n      <td>...</td>\n      <td>1.0</td>\n      <td>NaT</td>\n      <td>NaN</td>\n      <td>NaN</td>\n      <td>NaN</td>\n      <td>NaN</td>\n      <td>NaN</td>\n      <td>NaN</td>\n      <td>NaN</td>\n      <td>NaN</td>\n    </tr>\n    <tr>\n      <th>ESOC10015</th>\n      <td>10015</td>\n      <td>ikem</td>\n      <td>0</td>\n      <td>control</td>\n      <td>1976</td>\n      <td>34.2</td>\n      <td>2010-09-08</td>\n      <td>1</td>\n      <td>F</td>\n      <td>0</td>\n      <td>...</td>\n      <td>1.0</td>\n      <td>NaT</td>\n      <td>NaN</td>\n      <td>NaN</td>\n      <td>NaN</td>\n      <td>NaN</td>\n      <td>NaN</td>\n      <td>NaN</td>\n      <td>NaN</td>\n      <td>NaN</td>\n    </tr>\n    <tr>\n      <th>ESOC10017</th>\n      <td>10017</td>\n      <td>ikem</td>\n      <td>0</td>\n      <td>control</td>\n      <td>1981</td>\n      <td>29.0</td>\n      <td>2010-07-16</td>\n      <td>1</td>\n      <td>F</td>\n      <td>0</td>\n      <td>...</td>\n      <td>1.0</td>\n      <td>NaT</td>\n      <td>NaN</td>\n      <td>NaN</td>\n      <td>NaN</td>\n      <td>NaN</td>\n      <td>NaN</td>\n      <td>NaN</td>\n      <td>NaN</td>\n      <td>NaN</td>\n    </tr>\n    <tr>\n      <th>ESOC10018</th>\n      <td>10018</td>\n      <td>ikem</td>\n      <td>0</td>\n      <td>control</td>\n      <td>1978</td>\n      <td>31.9</td>\n      <td>2010-07-19</td>\n      <td>1</td>\n      <td>M</td>\n      <td>1</td>\n      <td>...</td>\n      <td>1.0</td>\n      <td>NaT</td>\n      <td>NaN</td>\n      <td>NaN</td>\n      <td>NaN</td>\n      <td>NaN</td>\n      <td>NaN</td>\n      <td>NaN</td>\n      <td>NaN</td>\n      <td>NaN</td>\n    </tr>\n    <tr>\n      <th>...</th>\n      <td>...</td>\n      <td>...</td>\n      <td>...</td>\n      <td>...</td>\n      <td>...</td>\n      <td>...</td>\n      <td>...</td>\n      <td>...</td>\n      <td>...</td>\n      <td>...</td>\n      <td>...</td>\n      <td>...</td>\n      <td>...</td>\n      <td>...</td>\n      <td>...</td>\n      <td>...</td>\n      <td>...</td>\n      <td>...</td>\n      <td>...</td>\n      <td>...</td>\n      <td>...</td>\n    </tr>\n    <tr>\n      <th>ESOP00173</th>\n      <td>173</td>\n      <td>ikem</td>\n      <td>1</td>\n      <td>patient</td>\n      <td>1980</td>\n      <td>34.3</td>\n      <td>2014-04-08</td>\n      <td>1</td>\n      <td>M</td>\n      <td>1</td>\n      <td>...</td>\n      <td>1.0</td>\n      <td>2014-06-15</td>\n      <td>34.2</td>\n      <td>NaN</td>\n      <td>2.0</td>\n      <td>40.0</td>\n      <td>11.0</td>\n      <td>25.0</td>\n      <td>45.0</td>\n      <td>81.0</td>\n    </tr>\n    <tr>\n      <th>ESOP00176</th>\n      <td>176</td>\n      <td>ikem</td>\n      <td>1</td>\n      <td>patient</td>\n      <td>1994</td>\n      <td>20.2</td>\n      <td>2014-08-14</td>\n      <td>1</td>\n      <td>F</td>\n      <td>0</td>\n      <td>...</td>\n      <td>0.0</td>\n      <td>2014-01-02</td>\n      <td>19.6</td>\n      <td>5.0</td>\n      <td>6.0</td>\n      <td>46.0</td>\n      <td>16.0</td>\n      <td>27.0</td>\n      <td>46.0</td>\n      <td>89.0</td>\n    </tr>\n    <tr>\n      <th>ESOP00177</th>\n      <td>177</td>\n      <td>ikem</td>\n      <td>1</td>\n      <td>patient</td>\n      <td>1992</td>\n      <td>22.0</td>\n      <td>2014-11-08</td>\n      <td>1</td>\n      <td>M</td>\n      <td>1</td>\n      <td>...</td>\n      <td>1.0</td>\n      <td>2014-06-15</td>\n      <td>21.9</td>\n      <td>1.0</td>\n      <td>2.0</td>\n      <td>55.0</td>\n      <td>13.0</td>\n      <td>20.0</td>\n      <td>45.0</td>\n      <td>78.0</td>\n    </tr>\n    <tr>\n      <th>ESOP00178</th>\n      <td>178</td>\n      <td>ikem</td>\n      <td>1</td>\n      <td>patient</td>\n      <td>1979</td>\n      <td>34.6</td>\n      <td>2014-11-08</td>\n      <td>1</td>\n      <td>M</td>\n      <td>1</td>\n      <td>...</td>\n      <td>1.0</td>\n      <td>2014-06-24</td>\n      <td>34.5</td>\n      <td>NaN</td>\n      <td>2.0</td>\n      <td>58.0</td>\n      <td>18.0</td>\n      <td>14.0</td>\n      <td>38.0</td>\n      <td>70.0</td>\n    </tr>\n    <tr>\n      <th>ESOP00205</th>\n      <td>205</td>\n      <td>ikem</td>\n      <td>1</td>\n      <td>patient</td>\n      <td>1983</td>\n      <td>31.6</td>\n      <td>2014-08-09</td>\n      <td>1</td>\n      <td>M</td>\n      <td>1</td>\n      <td>...</td>\n      <td>1.0</td>\n      <td>2014-01-07</td>\n      <td>31.4</td>\n      <td>1.0</td>\n      <td>2.0</td>\n      <td>NaN</td>\n      <td>21.0</td>\n      <td>16.0</td>\n      <td>39.0</td>\n      <td>76.0</td>\n    </tr>\n  </tbody>\n</table>\n<p>184 rows × 21 columns</p>\n</div>"
     },
     "execution_count": 140,
     "metadata": {},
     "output_type": "execute_result"
    }
   ],
   "source": [
    "# load IKEM dataset info\n",
    "ikem_info = pd.read_parquet(r'C:\\Users\\kajin\\PhD\\ESO\\eso_multimodal_dataset\\dataset\\info_ikem.parquet')\n",
    "ikem_info"
   ],
   "metadata": {
    "collapsed": false,
    "ExecuteTime": {
     "end_time": "2024-07-25T11:53:55.866297Z",
     "start_time": "2024-07-25T11:53:55.825933Z"
    }
   },
   "id": "d4817669adc2fcfd"
  },
  {
   "cell_type": "code",
   "execution_count": 141,
   "outputs": [
    {
     "data": {
      "text/plain": "                 ids  hydra_tail  site  patient    group  birth_year  \\\nhydra_id                                                               \nESOC10006  ESOC10006       10006  ikem        0  control        1985   \nESOC10013  ESOC10013       10013  ikem        0  control        1982   \nESOC10015  ESOC10015       10015  ikem        0  control        1976   \nESOC10017  ESOC10017       10017  ikem        0  control        1981   \nESOC10018  ESOC10018       10018  ikem        0  control        1978   \n...              ...         ...   ...      ...      ...         ...   \nESOP00173  ESOP00173         173  ikem        1  patient        1980   \nESOP00176  ESOP00176         176  ikem        1  patient        1994   \nESOP00177  ESOP00177         177  ikem        1  patient        1992   \nESOP00178  ESOP00178         178  ikem        1  patient        1979   \nESOP00205  ESOP00205         205  ikem        1  patient        1983   \n\n           visit_age visit_date  visit_no sex  ...  right_handed  \\\nhydra_id                                       ...                 \nESOC10006       24.8 2010-07-23         1   F  ...           1.0   \nESOC10013       27.7 2010-07-15         1   F  ...           1.0   \nESOC10015       34.2 2010-09-08         1   F  ...           1.0   \nESOC10017       29.0 2010-07-16         1   F  ...           1.0   \nESOC10018       31.9 2010-07-19         1   M  ...           1.0   \n...              ...        ...       ...  ..  ...           ...   \nESOP00173       34.3 2014-04-08         1   M  ...           1.0   \nESOP00176       20.2 2014-08-14         1   F  ...           0.0   \nESOP00177       22.0 2014-11-08         1   M  ...           1.0   \nESOP00178       34.6 2014-11-08         1   M  ...           1.0   \nESOP00205       31.6 2014-08-09         1   M  ...           1.0   \n\n           first_symptoms_date  first_symptoms_age  dup  dx_to_mri   gaf  \\\nhydra_id                                                                   \nESOC10006                  NaT                 NaN  NaN        NaN   NaN   \nESOC10013                  NaT                 NaN  NaN        NaN   NaN   \nESOC10015                  NaT                 NaN  NaN        NaN   NaN   \nESOC10017                  NaT                 NaN  NaN        NaN   NaN   \nESOC10018                  NaT                 NaN  NaN        NaN   NaN   \n...                        ...                 ...  ...        ...   ...   \nESOP00173           2014-06-15                34.2  NaN        2.0  40.0   \nESOP00176           2014-01-02                19.6  5.0        6.0  46.0   \nESOP00177           2014-06-15                21.9  1.0        2.0  55.0   \nESOP00178           2014-06-24                34.5  NaN        2.0  58.0   \nESOP00205           2014-01-07                31.4  1.0        2.0   NaN   \n\n           panss_pos  panss_neg  panss_glob  panss_tot  \nhydra_id                                                \nESOC10006        NaN        NaN         NaN        NaN  \nESOC10013        NaN        NaN         NaN        NaN  \nESOC10015        NaN        NaN         NaN        NaN  \nESOC10017        NaN        NaN         NaN        NaN  \nESOC10018        NaN        NaN         NaN        NaN  \n...              ...        ...         ...        ...  \nESOP00173       11.0       25.0        45.0       81.0  \nESOP00176       16.0       27.0        46.0       89.0  \nESOP00177       13.0       20.0        45.0       78.0  \nESOP00178       18.0       14.0        38.0       70.0  \nESOP00205       21.0       16.0        39.0       76.0  \n\n[184 rows x 22 columns]",
      "text/html": "<div>\n<style scoped>\n    .dataframe tbody tr th:only-of-type {\n        vertical-align: middle;\n    }\n\n    .dataframe tbody tr th {\n        vertical-align: top;\n    }\n\n    .dataframe thead th {\n        text-align: right;\n    }\n</style>\n<table border=\"1\" class=\"dataframe\">\n  <thead>\n    <tr style=\"text-align: right;\">\n      <th></th>\n      <th>ids</th>\n      <th>hydra_tail</th>\n      <th>site</th>\n      <th>patient</th>\n      <th>group</th>\n      <th>birth_year</th>\n      <th>visit_age</th>\n      <th>visit_date</th>\n      <th>visit_no</th>\n      <th>sex</th>\n      <th>...</th>\n      <th>right_handed</th>\n      <th>first_symptoms_date</th>\n      <th>first_symptoms_age</th>\n      <th>dup</th>\n      <th>dx_to_mri</th>\n      <th>gaf</th>\n      <th>panss_pos</th>\n      <th>panss_neg</th>\n      <th>panss_glob</th>\n      <th>panss_tot</th>\n    </tr>\n    <tr>\n      <th>hydra_id</th>\n      <th></th>\n      <th></th>\n      <th></th>\n      <th></th>\n      <th></th>\n      <th></th>\n      <th></th>\n      <th></th>\n      <th></th>\n      <th></th>\n      <th></th>\n      <th></th>\n      <th></th>\n      <th></th>\n      <th></th>\n      <th></th>\n      <th></th>\n      <th></th>\n      <th></th>\n      <th></th>\n      <th></th>\n    </tr>\n  </thead>\n  <tbody>\n    <tr>\n      <th>ESOC10006</th>\n      <td>ESOC10006</td>\n      <td>10006</td>\n      <td>ikem</td>\n      <td>0</td>\n      <td>control</td>\n      <td>1985</td>\n      <td>24.8</td>\n      <td>2010-07-23</td>\n      <td>1</td>\n      <td>F</td>\n      <td>...</td>\n      <td>1.0</td>\n      <td>NaT</td>\n      <td>NaN</td>\n      <td>NaN</td>\n      <td>NaN</td>\n      <td>NaN</td>\n      <td>NaN</td>\n      <td>NaN</td>\n      <td>NaN</td>\n      <td>NaN</td>\n    </tr>\n    <tr>\n      <th>ESOC10013</th>\n      <td>ESOC10013</td>\n      <td>10013</td>\n      <td>ikem</td>\n      <td>0</td>\n      <td>control</td>\n      <td>1982</td>\n      <td>27.7</td>\n      <td>2010-07-15</td>\n      <td>1</td>\n      <td>F</td>\n      <td>...</td>\n      <td>1.0</td>\n      <td>NaT</td>\n      <td>NaN</td>\n      <td>NaN</td>\n      <td>NaN</td>\n      <td>NaN</td>\n      <td>NaN</td>\n      <td>NaN</td>\n      <td>NaN</td>\n      <td>NaN</td>\n    </tr>\n    <tr>\n      <th>ESOC10015</th>\n      <td>ESOC10015</td>\n      <td>10015</td>\n      <td>ikem</td>\n      <td>0</td>\n      <td>control</td>\n      <td>1976</td>\n      <td>34.2</td>\n      <td>2010-09-08</td>\n      <td>1</td>\n      <td>F</td>\n      <td>...</td>\n      <td>1.0</td>\n      <td>NaT</td>\n      <td>NaN</td>\n      <td>NaN</td>\n      <td>NaN</td>\n      <td>NaN</td>\n      <td>NaN</td>\n      <td>NaN</td>\n      <td>NaN</td>\n      <td>NaN</td>\n    </tr>\n    <tr>\n      <th>ESOC10017</th>\n      <td>ESOC10017</td>\n      <td>10017</td>\n      <td>ikem</td>\n      <td>0</td>\n      <td>control</td>\n      <td>1981</td>\n      <td>29.0</td>\n      <td>2010-07-16</td>\n      <td>1</td>\n      <td>F</td>\n      <td>...</td>\n      <td>1.0</td>\n      <td>NaT</td>\n      <td>NaN</td>\n      <td>NaN</td>\n      <td>NaN</td>\n      <td>NaN</td>\n      <td>NaN</td>\n      <td>NaN</td>\n      <td>NaN</td>\n      <td>NaN</td>\n    </tr>\n    <tr>\n      <th>ESOC10018</th>\n      <td>ESOC10018</td>\n      <td>10018</td>\n      <td>ikem</td>\n      <td>0</td>\n      <td>control</td>\n      <td>1978</td>\n      <td>31.9</td>\n      <td>2010-07-19</td>\n      <td>1</td>\n      <td>M</td>\n      <td>...</td>\n      <td>1.0</td>\n      <td>NaT</td>\n      <td>NaN</td>\n      <td>NaN</td>\n      <td>NaN</td>\n      <td>NaN</td>\n      <td>NaN</td>\n      <td>NaN</td>\n      <td>NaN</td>\n      <td>NaN</td>\n    </tr>\n    <tr>\n      <th>...</th>\n      <td>...</td>\n      <td>...</td>\n      <td>...</td>\n      <td>...</td>\n      <td>...</td>\n      <td>...</td>\n      <td>...</td>\n      <td>...</td>\n      <td>...</td>\n      <td>...</td>\n      <td>...</td>\n      <td>...</td>\n      <td>...</td>\n      <td>...</td>\n      <td>...</td>\n      <td>...</td>\n      <td>...</td>\n      <td>...</td>\n      <td>...</td>\n      <td>...</td>\n      <td>...</td>\n    </tr>\n    <tr>\n      <th>ESOP00173</th>\n      <td>ESOP00173</td>\n      <td>173</td>\n      <td>ikem</td>\n      <td>1</td>\n      <td>patient</td>\n      <td>1980</td>\n      <td>34.3</td>\n      <td>2014-04-08</td>\n      <td>1</td>\n      <td>M</td>\n      <td>...</td>\n      <td>1.0</td>\n      <td>2014-06-15</td>\n      <td>34.2</td>\n      <td>NaN</td>\n      <td>2.0</td>\n      <td>40.0</td>\n      <td>11.0</td>\n      <td>25.0</td>\n      <td>45.0</td>\n      <td>81.0</td>\n    </tr>\n    <tr>\n      <th>ESOP00176</th>\n      <td>ESOP00176</td>\n      <td>176</td>\n      <td>ikem</td>\n      <td>1</td>\n      <td>patient</td>\n      <td>1994</td>\n      <td>20.2</td>\n      <td>2014-08-14</td>\n      <td>1</td>\n      <td>F</td>\n      <td>...</td>\n      <td>0.0</td>\n      <td>2014-01-02</td>\n      <td>19.6</td>\n      <td>5.0</td>\n      <td>6.0</td>\n      <td>46.0</td>\n      <td>16.0</td>\n      <td>27.0</td>\n      <td>46.0</td>\n      <td>89.0</td>\n    </tr>\n    <tr>\n      <th>ESOP00177</th>\n      <td>ESOP00177</td>\n      <td>177</td>\n      <td>ikem</td>\n      <td>1</td>\n      <td>patient</td>\n      <td>1992</td>\n      <td>22.0</td>\n      <td>2014-11-08</td>\n      <td>1</td>\n      <td>M</td>\n      <td>...</td>\n      <td>1.0</td>\n      <td>2014-06-15</td>\n      <td>21.9</td>\n      <td>1.0</td>\n      <td>2.0</td>\n      <td>55.0</td>\n      <td>13.0</td>\n      <td>20.0</td>\n      <td>45.0</td>\n      <td>78.0</td>\n    </tr>\n    <tr>\n      <th>ESOP00178</th>\n      <td>ESOP00178</td>\n      <td>178</td>\n      <td>ikem</td>\n      <td>1</td>\n      <td>patient</td>\n      <td>1979</td>\n      <td>34.6</td>\n      <td>2014-11-08</td>\n      <td>1</td>\n      <td>M</td>\n      <td>...</td>\n      <td>1.0</td>\n      <td>2014-06-24</td>\n      <td>34.5</td>\n      <td>NaN</td>\n      <td>2.0</td>\n      <td>58.0</td>\n      <td>18.0</td>\n      <td>14.0</td>\n      <td>38.0</td>\n      <td>70.0</td>\n    </tr>\n    <tr>\n      <th>ESOP00205</th>\n      <td>ESOP00205</td>\n      <td>205</td>\n      <td>ikem</td>\n      <td>1</td>\n      <td>patient</td>\n      <td>1983</td>\n      <td>31.6</td>\n      <td>2014-08-09</td>\n      <td>1</td>\n      <td>M</td>\n      <td>...</td>\n      <td>1.0</td>\n      <td>2014-01-07</td>\n      <td>31.4</td>\n      <td>1.0</td>\n      <td>2.0</td>\n      <td>NaN</td>\n      <td>21.0</td>\n      <td>16.0</td>\n      <td>39.0</td>\n      <td>76.0</td>\n    </tr>\n  </tbody>\n</table>\n<p>184 rows × 22 columns</p>\n</div>"
     },
     "execution_count": 141,
     "metadata": {},
     "output_type": "execute_result"
    }
   ],
   "source": [
    "ikem_info.loc[:, 'ids'] = ikem_info.index\n",
    "\n",
    "# Move the 'index' column to the 0th position\n",
    "cols = ikem_info.columns.tolist()  # Get the list of columns\n",
    "cols = cols[-1:] + cols[:-1]  # Move the last column to the first position\n",
    "ikem_info = ikem_info.loc[:, cols]\n",
    "\n",
    "ikem_info"
   ],
   "metadata": {
    "collapsed": false,
    "ExecuteTime": {
     "end_time": "2024-07-25T11:53:58.005758600Z",
     "start_time": "2024-07-25T11:53:57.975893500Z"
    }
   },
   "id": "6e48fe20265bb3d1"
  },
  {
   "cell_type": "code",
   "execution_count": 124,
   "outputs": [],
   "source": [
    "# filter subjects contained in my dataset\n",
    "ikem_all_ids = ikem_info.filter(like='ids')\n",
    "ikem_subset_ids = pd.read_csv(r'C:\\Users\\kajin\\PhD\\ESO\\subs_names_fov5.txt', header=None, names = ['hydra_id'])\n",
    "ikem_subset_ids = ikem_subset_ids.filter(like='hydra_id')\n",
    "ikem_subset_ids = ikem_subset_ids['hydra_id'].str.replace('_','')\n",
    "ikem_subset_ids = ikem_subset_ids.str[0:9]\n",
    "ikem_subset_ids = ikem_subset_ids.to_frame()\n",
    "\n"
   ],
   "metadata": {
    "collapsed": false,
    "ExecuteTime": {
     "end_time": "2024-07-25T11:45:53.560277600Z",
     "start_time": "2024-07-25T11:45:53.533343300Z"
    }
   },
   "id": "91ef0f9fb4f051d1"
  },
  {
   "cell_type": "code",
   "execution_count": 125,
   "outputs": [
    {
     "data": {
      "text/plain": "                 ids\nhydra_id            \nESOC10006  ESOC10006\nESOC10013  ESOC10013\nESOC10015  ESOC10015\nESOC10017  ESOC10017\nESOC10018  ESOC10018\n...              ...\nESOP00173  ESOP00173\nESOP00176  ESOP00176\nESOP00177  ESOP00177\nESOP00178  ESOP00178\nESOP00205  ESOP00205\n\n[184 rows x 1 columns]",
      "text/html": "<div>\n<style scoped>\n    .dataframe tbody tr th:only-of-type {\n        vertical-align: middle;\n    }\n\n    .dataframe tbody tr th {\n        vertical-align: top;\n    }\n\n    .dataframe thead th {\n        text-align: right;\n    }\n</style>\n<table border=\"1\" class=\"dataframe\">\n  <thead>\n    <tr style=\"text-align: right;\">\n      <th></th>\n      <th>ids</th>\n    </tr>\n    <tr>\n      <th>hydra_id</th>\n      <th></th>\n    </tr>\n  </thead>\n  <tbody>\n    <tr>\n      <th>ESOC10006</th>\n      <td>ESOC10006</td>\n    </tr>\n    <tr>\n      <th>ESOC10013</th>\n      <td>ESOC10013</td>\n    </tr>\n    <tr>\n      <th>ESOC10015</th>\n      <td>ESOC10015</td>\n    </tr>\n    <tr>\n      <th>ESOC10017</th>\n      <td>ESOC10017</td>\n    </tr>\n    <tr>\n      <th>ESOC10018</th>\n      <td>ESOC10018</td>\n    </tr>\n    <tr>\n      <th>...</th>\n      <td>...</td>\n    </tr>\n    <tr>\n      <th>ESOP00173</th>\n      <td>ESOP00173</td>\n    </tr>\n    <tr>\n      <th>ESOP00176</th>\n      <td>ESOP00176</td>\n    </tr>\n    <tr>\n      <th>ESOP00177</th>\n      <td>ESOP00177</td>\n    </tr>\n    <tr>\n      <th>ESOP00178</th>\n      <td>ESOP00178</td>\n    </tr>\n    <tr>\n      <th>ESOP00205</th>\n      <td>ESOP00205</td>\n    </tr>\n  </tbody>\n</table>\n<p>184 rows × 1 columns</p>\n</div>"
     },
     "execution_count": 125,
     "metadata": {},
     "output_type": "execute_result"
    }
   ],
   "source": [
    "ikem_all_ids"
   ],
   "metadata": {
    "collapsed": false,
    "ExecuteTime": {
     "end_time": "2024-07-25T11:45:54.748535300Z",
     "start_time": "2024-07-25T11:45:54.734491700Z"
    }
   },
   "id": "6e52c696197afd14"
  },
  {
   "cell_type": "code",
   "execution_count": 126,
   "outputs": [
    {
     "data": {
      "text/plain": "      hydra_id\n0    ESOC00221\n1    ESOC00226\n2    ESOC10087\n3    ESOC10089\n4    ESOC10090\n..         ...\n126  ESOP00240\n127  ESOP00241\n128  ESOP00242\n129  ESOP00244\n130  ESOP00531\n\n[131 rows x 1 columns]",
      "text/html": "<div>\n<style scoped>\n    .dataframe tbody tr th:only-of-type {\n        vertical-align: middle;\n    }\n\n    .dataframe tbody tr th {\n        vertical-align: top;\n    }\n\n    .dataframe thead th {\n        text-align: right;\n    }\n</style>\n<table border=\"1\" class=\"dataframe\">\n  <thead>\n    <tr style=\"text-align: right;\">\n      <th></th>\n      <th>hydra_id</th>\n    </tr>\n  </thead>\n  <tbody>\n    <tr>\n      <th>0</th>\n      <td>ESOC00221</td>\n    </tr>\n    <tr>\n      <th>1</th>\n      <td>ESOC00226</td>\n    </tr>\n    <tr>\n      <th>2</th>\n      <td>ESOC10087</td>\n    </tr>\n    <tr>\n      <th>3</th>\n      <td>ESOC10089</td>\n    </tr>\n    <tr>\n      <th>4</th>\n      <td>ESOC10090</td>\n    </tr>\n    <tr>\n      <th>...</th>\n      <td>...</td>\n    </tr>\n    <tr>\n      <th>126</th>\n      <td>ESOP00240</td>\n    </tr>\n    <tr>\n      <th>127</th>\n      <td>ESOP00241</td>\n    </tr>\n    <tr>\n      <th>128</th>\n      <td>ESOP00242</td>\n    </tr>\n    <tr>\n      <th>129</th>\n      <td>ESOP00244</td>\n    </tr>\n    <tr>\n      <th>130</th>\n      <td>ESOP00531</td>\n    </tr>\n  </tbody>\n</table>\n<p>131 rows × 1 columns</p>\n</div>"
     },
     "execution_count": 126,
     "metadata": {},
     "output_type": "execute_result"
    }
   ],
   "source": [
    "ikem_subset_ids"
   ],
   "metadata": {
    "collapsed": false,
    "ExecuteTime": {
     "end_time": "2024-07-25T11:45:55.612078600Z",
     "start_time": "2024-07-25T11:45:55.603139400Z"
    }
   },
   "id": "a626f6d478a2b43e"
  },
  {
   "cell_type": "code",
   "execution_count": 138,
   "outputs": [],
   "source": [
    "matching_rows = []\n",
    "\n",
    "for index_A, row_A in ikem_info.iterrows():\n",
    "    for index_B, row_B in ikem_subset_ids.iterrows():\n",
    "        if row_A['ids'] == row_B['hydra_id']:\n",
    "            matching_rows.append((index_A, index_B, row_A['ids']))\n",
    "\n",
    "matching_df = pd.DataFrame(matching_rows, columns=['Index_A', 'Index_B', 'Text'])"
   ],
   "metadata": {
    "collapsed": false,
    "ExecuteTime": {
     "end_time": "2024-07-25T11:53:47.397869400Z",
     "start_time": "2024-07-25T11:53:46.762226700Z"
    }
   },
   "id": "a4db2d83520cae2c"
  },
  {
   "cell_type": "code",
   "execution_count": 139,
   "outputs": [
    {
     "data": {
      "text/plain": "      Index_A  Index_B       Text\n0   ESOC10087        2  ESOC10087\n1   ESOC10089        3  ESOC10089\n2   ESOC10090        4  ESOC10090\n3   ESOC10091        5  ESOC10091\n4   ESOC10092        6  ESOC10092\n5   ESOC10093        7  ESOC10093\n6   ESOC10096        8  ESOC10096\n7   ESOC10098        9  ESOC10098\n8   ESOC10099       10  ESOC10099\n9   ESOC10101       12  ESOC10101\n10  ESOC10102       13  ESOC10102\n11  ESOC10104       15  ESOC10104\n12  ESOC10105       16  ESOC10105\n13  ESOC10106       17  ESOC10106\n14  ESOC10108       18  ESOC10108\n15  ESOC10110       20  ESOC10110\n16  ESOC10112       22  ESOC10112\n17  ESOC10113       23  ESOC10113\n18  ESOC10114       24  ESOC10114\n19  ESOC10115       25  ESOC10115\n20  ESOC10116       26  ESOC10116\n21  ESOC10117       27  ESOC10117\n22  ESOC10118       28  ESOC10118\n23  ESOC10119       29  ESOC10119\n24  ESOC10120       30  ESOC10120\n25  ESOC10121       31  ESOC10121\n26  ESOC10122       32  ESOC10122\n27  ESOC10123       33  ESOC10123\n28  ESOP00124       55  ESOP00124\n29  ESOP00128       57  ESOP00128\n30  ESOP00132       59  ESOP00132\n31  ESOP00135       61  ESOP00135\n32  ESOP00136       62  ESOP00136\n33  ESOP00137       63  ESOP00137\n34  ESOP00138       64  ESOP00138\n35  ESOP00142       66  ESOP00142\n36  ESOP00143       67  ESOP00143\n37  ESOP00146       68  ESOP00146\n38  ESOP00147       69  ESOP00147\n39  ESOP00148       70  ESOP00148\n40  ESOP00149       71  ESOP00149\n41  ESOP00153       72  ESOP00153\n42  ESOP00155       74  ESOP00155\n43  ESOP00156       75  ESOP00156\n44  ESOP00158       76  ESOP00158\n45  ESOP00159       77  ESOP00159\n46  ESOP00167       83  ESOP00167\n47  ESOP00169       84  ESOP00169\n48  ESOP00170       85  ESOP00170\n49  ESOP00173       87  ESOP00173\n50  ESOP00176       88  ESOP00176\n51  ESOP00177       89  ESOP00177\n52  ESOP00178       90  ESOP00178\n53  ESOP00205      109  ESOP00205",
      "text/html": "<div>\n<style scoped>\n    .dataframe tbody tr th:only-of-type {\n        vertical-align: middle;\n    }\n\n    .dataframe tbody tr th {\n        vertical-align: top;\n    }\n\n    .dataframe thead th {\n        text-align: right;\n    }\n</style>\n<table border=\"1\" class=\"dataframe\">\n  <thead>\n    <tr style=\"text-align: right;\">\n      <th></th>\n      <th>Index_A</th>\n      <th>Index_B</th>\n      <th>Text</th>\n    </tr>\n  </thead>\n  <tbody>\n    <tr>\n      <th>0</th>\n      <td>ESOC10087</td>\n      <td>2</td>\n      <td>ESOC10087</td>\n    </tr>\n    <tr>\n      <th>1</th>\n      <td>ESOC10089</td>\n      <td>3</td>\n      <td>ESOC10089</td>\n    </tr>\n    <tr>\n      <th>2</th>\n      <td>ESOC10090</td>\n      <td>4</td>\n      <td>ESOC10090</td>\n    </tr>\n    <tr>\n      <th>3</th>\n      <td>ESOC10091</td>\n      <td>5</td>\n      <td>ESOC10091</td>\n    </tr>\n    <tr>\n      <th>4</th>\n      <td>ESOC10092</td>\n      <td>6</td>\n      <td>ESOC10092</td>\n    </tr>\n    <tr>\n      <th>5</th>\n      <td>ESOC10093</td>\n      <td>7</td>\n      <td>ESOC10093</td>\n    </tr>\n    <tr>\n      <th>6</th>\n      <td>ESOC10096</td>\n      <td>8</td>\n      <td>ESOC10096</td>\n    </tr>\n    <tr>\n      <th>7</th>\n      <td>ESOC10098</td>\n      <td>9</td>\n      <td>ESOC10098</td>\n    </tr>\n    <tr>\n      <th>8</th>\n      <td>ESOC10099</td>\n      <td>10</td>\n      <td>ESOC10099</td>\n    </tr>\n    <tr>\n      <th>9</th>\n      <td>ESOC10101</td>\n      <td>12</td>\n      <td>ESOC10101</td>\n    </tr>\n    <tr>\n      <th>10</th>\n      <td>ESOC10102</td>\n      <td>13</td>\n      <td>ESOC10102</td>\n    </tr>\n    <tr>\n      <th>11</th>\n      <td>ESOC10104</td>\n      <td>15</td>\n      <td>ESOC10104</td>\n    </tr>\n    <tr>\n      <th>12</th>\n      <td>ESOC10105</td>\n      <td>16</td>\n      <td>ESOC10105</td>\n    </tr>\n    <tr>\n      <th>13</th>\n      <td>ESOC10106</td>\n      <td>17</td>\n      <td>ESOC10106</td>\n    </tr>\n    <tr>\n      <th>14</th>\n      <td>ESOC10108</td>\n      <td>18</td>\n      <td>ESOC10108</td>\n    </tr>\n    <tr>\n      <th>15</th>\n      <td>ESOC10110</td>\n      <td>20</td>\n      <td>ESOC10110</td>\n    </tr>\n    <tr>\n      <th>16</th>\n      <td>ESOC10112</td>\n      <td>22</td>\n      <td>ESOC10112</td>\n    </tr>\n    <tr>\n      <th>17</th>\n      <td>ESOC10113</td>\n      <td>23</td>\n      <td>ESOC10113</td>\n    </tr>\n    <tr>\n      <th>18</th>\n      <td>ESOC10114</td>\n      <td>24</td>\n      <td>ESOC10114</td>\n    </tr>\n    <tr>\n      <th>19</th>\n      <td>ESOC10115</td>\n      <td>25</td>\n      <td>ESOC10115</td>\n    </tr>\n    <tr>\n      <th>20</th>\n      <td>ESOC10116</td>\n      <td>26</td>\n      <td>ESOC10116</td>\n    </tr>\n    <tr>\n      <th>21</th>\n      <td>ESOC10117</td>\n      <td>27</td>\n      <td>ESOC10117</td>\n    </tr>\n    <tr>\n      <th>22</th>\n      <td>ESOC10118</td>\n      <td>28</td>\n      <td>ESOC10118</td>\n    </tr>\n    <tr>\n      <th>23</th>\n      <td>ESOC10119</td>\n      <td>29</td>\n      <td>ESOC10119</td>\n    </tr>\n    <tr>\n      <th>24</th>\n      <td>ESOC10120</td>\n      <td>30</td>\n      <td>ESOC10120</td>\n    </tr>\n    <tr>\n      <th>25</th>\n      <td>ESOC10121</td>\n      <td>31</td>\n      <td>ESOC10121</td>\n    </tr>\n    <tr>\n      <th>26</th>\n      <td>ESOC10122</td>\n      <td>32</td>\n      <td>ESOC10122</td>\n    </tr>\n    <tr>\n      <th>27</th>\n      <td>ESOC10123</td>\n      <td>33</td>\n      <td>ESOC10123</td>\n    </tr>\n    <tr>\n      <th>28</th>\n      <td>ESOP00124</td>\n      <td>55</td>\n      <td>ESOP00124</td>\n    </tr>\n    <tr>\n      <th>29</th>\n      <td>ESOP00128</td>\n      <td>57</td>\n      <td>ESOP00128</td>\n    </tr>\n    <tr>\n      <th>30</th>\n      <td>ESOP00132</td>\n      <td>59</td>\n      <td>ESOP00132</td>\n    </tr>\n    <tr>\n      <th>31</th>\n      <td>ESOP00135</td>\n      <td>61</td>\n      <td>ESOP00135</td>\n    </tr>\n    <tr>\n      <th>32</th>\n      <td>ESOP00136</td>\n      <td>62</td>\n      <td>ESOP00136</td>\n    </tr>\n    <tr>\n      <th>33</th>\n      <td>ESOP00137</td>\n      <td>63</td>\n      <td>ESOP00137</td>\n    </tr>\n    <tr>\n      <th>34</th>\n      <td>ESOP00138</td>\n      <td>64</td>\n      <td>ESOP00138</td>\n    </tr>\n    <tr>\n      <th>35</th>\n      <td>ESOP00142</td>\n      <td>66</td>\n      <td>ESOP00142</td>\n    </tr>\n    <tr>\n      <th>36</th>\n      <td>ESOP00143</td>\n      <td>67</td>\n      <td>ESOP00143</td>\n    </tr>\n    <tr>\n      <th>37</th>\n      <td>ESOP00146</td>\n      <td>68</td>\n      <td>ESOP00146</td>\n    </tr>\n    <tr>\n      <th>38</th>\n      <td>ESOP00147</td>\n      <td>69</td>\n      <td>ESOP00147</td>\n    </tr>\n    <tr>\n      <th>39</th>\n      <td>ESOP00148</td>\n      <td>70</td>\n      <td>ESOP00148</td>\n    </tr>\n    <tr>\n      <th>40</th>\n      <td>ESOP00149</td>\n      <td>71</td>\n      <td>ESOP00149</td>\n    </tr>\n    <tr>\n      <th>41</th>\n      <td>ESOP00153</td>\n      <td>72</td>\n      <td>ESOP00153</td>\n    </tr>\n    <tr>\n      <th>42</th>\n      <td>ESOP00155</td>\n      <td>74</td>\n      <td>ESOP00155</td>\n    </tr>\n    <tr>\n      <th>43</th>\n      <td>ESOP00156</td>\n      <td>75</td>\n      <td>ESOP00156</td>\n    </tr>\n    <tr>\n      <th>44</th>\n      <td>ESOP00158</td>\n      <td>76</td>\n      <td>ESOP00158</td>\n    </tr>\n    <tr>\n      <th>45</th>\n      <td>ESOP00159</td>\n      <td>77</td>\n      <td>ESOP00159</td>\n    </tr>\n    <tr>\n      <th>46</th>\n      <td>ESOP00167</td>\n      <td>83</td>\n      <td>ESOP00167</td>\n    </tr>\n    <tr>\n      <th>47</th>\n      <td>ESOP00169</td>\n      <td>84</td>\n      <td>ESOP00169</td>\n    </tr>\n    <tr>\n      <th>48</th>\n      <td>ESOP00170</td>\n      <td>85</td>\n      <td>ESOP00170</td>\n    </tr>\n    <tr>\n      <th>49</th>\n      <td>ESOP00173</td>\n      <td>87</td>\n      <td>ESOP00173</td>\n    </tr>\n    <tr>\n      <th>50</th>\n      <td>ESOP00176</td>\n      <td>88</td>\n      <td>ESOP00176</td>\n    </tr>\n    <tr>\n      <th>51</th>\n      <td>ESOP00177</td>\n      <td>89</td>\n      <td>ESOP00177</td>\n    </tr>\n    <tr>\n      <th>52</th>\n      <td>ESOP00178</td>\n      <td>90</td>\n      <td>ESOP00178</td>\n    </tr>\n    <tr>\n      <th>53</th>\n      <td>ESOP00205</td>\n      <td>109</td>\n      <td>ESOP00205</td>\n    </tr>\n  </tbody>\n</table>\n</div>"
     },
     "execution_count": 139,
     "metadata": {},
     "output_type": "execute_result"
    }
   ],
   "source": [
    "matching_df"
   ],
   "metadata": {
    "collapsed": false,
    "ExecuteTime": {
     "end_time": "2024-07-25T11:53:48.068153200Z",
     "start_time": "2024-07-25T11:53:48.056930Z"
    }
   },
   "id": "4976aa293275253f"
  },
  {
   "cell_type": "code",
   "execution_count": null,
   "outputs": [],
   "source": [],
   "metadata": {
    "collapsed": false
   },
   "id": "1c8fccc96aef4271"
  }
 ],
 "metadata": {
  "kernelspec": {
   "display_name": "Python 3",
   "language": "python",
   "name": "python3"
  },
  "language_info": {
   "codemirror_mode": {
    "name": "ipython",
    "version": 2
   },
   "file_extension": ".py",
   "mimetype": "text/x-python",
   "name": "python",
   "nbconvert_exporter": "python",
   "pygments_lexer": "ipython2",
   "version": "2.7.6"
  }
 },
 "nbformat": 4,
 "nbformat_minor": 5
}
